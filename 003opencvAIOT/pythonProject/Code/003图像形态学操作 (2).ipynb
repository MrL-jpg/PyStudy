{
 "cells": [
  {
   "cell_type": "markdown",
   "id": "d8b72c8a-1050-4239-b011-3099f600f040",
   "metadata": {},
   "source": [
    "# 图像形态学操作"
   ]
  },
  {
   "cell_type": "code",
   "execution_count": 2,
   "id": "6ced8854-6436-471a-923a-cb224b290cd6",
   "metadata": {},
   "outputs": [],
   "source": [
    "import cv2\n",
    "import matplotlib.pyplot as plt\n",
    "import numpy as np"
   ]
  },
  {
   "cell_type": "markdown",
   "id": "4f7c4fad-2717-4d73-bfe4-3ebf07a0e162",
   "metadata": {},
   "source": [
    "### 形态学-腐蚀(erode)"
   ]
  },
  {
   "cell_type": "code",
   "execution_count": 12,
   "id": "33afe029-4a60-42b8-9395-46d5abad3e21",
   "metadata": {},
   "outputs": [],
   "source": [
    "img = cv2.imread(\"./Source/dige.png\")\n",
    "kernel = np.ones((3,3), np.uint8)\n",
    "eroded = cv2.erode(img, kernel, 1) #参数3:迭代次数\n",
    "cv2.imshow(\"eroded dige\",eroded)\n",
    "cv2.waitKey(0)\n",
    "cv2.destroyAllWindows()"
   ]
  },
  {
   "cell_type": "markdown",
   "id": "11753fb4-ca2b-4f3f-bf90-9fec827d93e7",
   "metadata": {},
   "source": [
    "### 形态学-膨胀(dilate)"
   ]
  },
  {
   "cell_type": "code",
   "execution_count": 13,
   "id": "e4b341ba-462b-48a3-b089-29019185d58c",
   "metadata": {},
   "outputs": [],
   "source": [
    "dilated = cv2.dilate(eroded,kernel,1)\n",
    "cv2.imshow(\"dilate dige\",dilated)\n",
    "cv2.waitKey(0)\n",
    "cv2.destroyAllWindows()"
   ]
  },
  {
   "cell_type": "code",
   "execution_count": 16,
   "id": "4dae01d0-4409-4912-a788-567b1150597a",
   "metadata": {},
   "outputs": [],
   "source": [
    "# 总体结果\n",
    "res = np.hstack((img,eroded,dilated))\n",
    "cv2.imshow(\"Result\",res)\n",
    "cv2.waitKey(0)\n",
    "cv2.destroyAllWindows()"
   ]
  },
  {
   "cell_type": "markdown",
   "id": "c53c2b22-19ed-42fb-b94b-5e49825515ba",
   "metadata": {},
   "source": [
    "### 开运算与闭运算(morphology-形态学)"
   ]
  },
  {
   "cell_type": "code",
   "execution_count": 18,
   "id": "382bb714-76f3-4909-8804-c3f9899552b7",
   "metadata": {},
   "outputs": [],
   "source": [
    "# 开运算：先腐蚀再膨胀\n",
    "kernel = np.ones((5,5),np.uint8)\n",
    "openning = cv2.morphologyEx(img, cv2.MORPH_OPEN, kernel)\n",
    "cv2.imshow(\"open\",openning)\n",
    "cv2.waitKey(0)\n",
    "cv2.destroyAllWindows()"
   ]
  },
  {
   "cell_type": "code",
   "execution_count": 23,
   "id": "34fe40b5-bba9-4f6a-a84a-10698942e458",
   "metadata": {},
   "outputs": [],
   "source": [
    "# 闭运算: 先膨胀再腐蚀\n",
    "kernel = np.ones((5,5),np.uint8)\n",
    "close = cv2.morphologyEx(img, cv2.MORPH_CLOSE, kernel)\n",
    "cv2.imshow(\"close\",close)\n",
    "cv2.waitKey(0)\n",
    "cv2.destroyAllWindows()"
   ]
  },
  {
   "cell_type": "markdown",
   "id": "c432204a-30bd-49a0-95f1-a78c90080343",
   "metadata": {},
   "source": [
    "### 梯度运算(gradient-梯度),res = 膨胀-腐蚀"
   ]
  },
  {
   "cell_type": "code",
   "execution_count": 29,
   "id": "1081ea0d-3b61-4764-851e-d5a240c95b4d",
   "metadata": {},
   "outputs": [],
   "source": [
    "kernel = np.ones((5,5),np.uint8)\n",
    "gradient = cv2.morphologyEx(img,cv2.MORPH_GRADIENT, kernel)\n",
    "cv2.imshow(\"gradient\", gradient)\n",
    "cv2.waitKey(0)\n",
    "cv2.destroyAllWindows()"
   ]
  },
  {
   "cell_type": "markdown",
   "id": "2041c066-ee21-4221-afac-ba465bee8842",
   "metadata": {},
   "source": [
    "### 礼帽(顶帽)与黑帽\n",
    "- 礼帽:原始图-开运算\n",
    "- 黑帽:闭运算-原始图"
   ]
  },
  {
   "cell_type": "code",
   "execution_count": 34,
   "id": "41947a3c-2645-4358-a344-dfeb418f9f22",
   "metadata": {},
   "outputs": [],
   "source": [
    "# 礼帽\n",
    "kernel = np.ones((5,5),np.uint8)\n",
    "tophat = cv2.morphologyEx(img, cv2.MORPH_TOPHAT, kernel)\n",
    "cv2.imshow(\"topHat\",tophat)\n",
    "cv2.waitKey(0)\n",
    "cv2.destroyAllWindows()"
   ]
  },
  {
   "cell_type": "code",
   "execution_count": 35,
   "id": "25008c8e-f389-44b7-b110-9b1b040dda12",
   "metadata": {},
   "outputs": [],
   "source": [
    "# 黑帽\n",
    "kernel = np.ones((5,5),np.uint8)\n",
    "blankhat = cv2.morphologyEx(img, cv2.MORPH_BLACKHAT, kernel)\n",
    "cv2.imshow(\"blankHat\",blankhat)\n",
    "cv2.waitKey(0)\n",
    "cv2.destroyAllWindows()"
   ]
  }
 ],
 "metadata": {
  "kernelspec": {
   "display_name": "Python 3 (ipykernel)",
   "language": "python",
   "name": "python3"
  },
  "language_info": {
   "codemirror_mode": {
    "name": "ipython",
    "version": 3
   },
   "file_extension": ".py",
   "mimetype": "text/x-python",
   "name": "python",
   "nbconvert_exporter": "python",
   "pygments_lexer": "ipython3",
   "version": "3.12.7"
  }
 },
 "nbformat": 4,
 "nbformat_minor": 5
}
