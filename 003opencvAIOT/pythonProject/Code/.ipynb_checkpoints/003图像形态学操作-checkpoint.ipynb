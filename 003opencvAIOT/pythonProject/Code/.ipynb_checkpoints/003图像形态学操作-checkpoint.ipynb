{
 "cells": [
  {
   "cell_type": "markdown",
   "id": "d8b72c8a-1050-4239-b011-3099f600f040",
   "metadata": {},
   "source": [
    "# 图像形态学操作"
   ]
  },
  {
   "cell_type": "code",
   "execution_count": 1,
   "id": "6ced8854-6436-471a-923a-cb224b290cd6",
   "metadata": {},
   "outputs": [],
   "source": [
    "import cv2\n",
    "import matplotlib.pyplot as plt\n",
    "import numpy as np"
   ]
  },
  {
   "cell_type": "markdown",
   "id": "4f7c4fad-2717-4d73-bfe4-3ebf07a0e162",
   "metadata": {},
   "source": [
    "# 形态学-腐蚀"
   ]
  },
  {
   "cell_type": "code",
   "execution_count": null,
   "id": "33afe029-4a60-42b8-9395-46d5abad3e21",
   "metadata": {},
   "outputs": [],
   "source": []
  }
 ],
 "metadata": {
  "kernelspec": {
   "display_name": "Python 3 (ipykernel)",
   "language": "python",
   "name": "python3"
  },
  "language_info": {
   "codemirror_mode": {
    "name": "ipython",
    "version": 3
   },
   "file_extension": ".py",
   "mimetype": "text/x-python",
   "name": "python",
   "nbconvert_exporter": "python",
   "pygments_lexer": "ipython3",
   "version": "3.12.7"
  }
 },
 "nbformat": 4,
 "nbformat_minor": 5
}
