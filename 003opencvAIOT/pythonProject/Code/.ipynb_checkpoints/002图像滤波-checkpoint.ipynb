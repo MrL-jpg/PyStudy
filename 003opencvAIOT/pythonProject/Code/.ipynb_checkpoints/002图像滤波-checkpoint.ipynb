{
 "cells": [
  {
   "cell_type": "markdown",
   "id": "bc957aa9-b09e-4d39-b11e-d0867852c1f2",
   "metadata": {},
   "source": [
    "#                                                                      图像滤波操作"
   ]
  },
  {
   "cell_type": "markdown",
   "id": "768aa663-3ec2-4208-9b0e-198680dfbf17",
   "metadata": {},
   "source": [
    "![不同滤波方法](./NotePicture/滤波.png)"
   ]
  },
  {
   "cell_type": "code",
   "execution_count": 38,
   "id": "a3ea3dcc-aa78-48c0-89ac-b6a9c9dba9f6",
   "metadata": {},
   "outputs": [],
   "source": [
    "import cv2\n",
    "import matplotlib.pyplot as plt\n",
    "import numpy as np"
   ]
  },
  {
   "cell_type": "markdown",
   "id": "2c5ca76f-d7f1-43a6-b5ed-c4dd710304a2",
   "metadata": {},
   "source": [
    "### 均值滤波, (3,3)为卷积核大小，即所选取用来求均值的矩阵的大小"
   ]
  },
  {
   "cell_type": "code",
   "execution_count": 39,
   "id": "c6442275-f923-4b30-b715-e81f71a5b12d",
   "metadata": {},
   "outputs": [],
   "source": [
    "img = cv2.imread(\"./Source/lenaNoise.png\")\n",
    "blur = cv2.blur(img, (3,3))\n",
    "cv2.imshow(\"blur\", blur)\n",
    "cv2.waitKey(0)\n",
    "cv2.destroyAllWindows()"
   ]
  },
  {
   "cell_type": "markdown",
   "id": "125d7f79-f1a8-4392-8d6d-0f6dd4dba3f0",
   "metadata": {},
   "source": [
    "### 方框滤波，同均值滤波一样,只是可选择是否做归一化处理"
   ]
  },
  {
   "cell_type": "code",
   "execution_count": 40,
   "id": "e60ceb81-0151-4479-b0c7-71e4fac94127",
   "metadata": {},
   "outputs": [],
   "source": [
    "img = cv2.imread(\"./Source/lenaNoise.png\")\n",
    "box = cv2.boxFilter(img,-1,(3,3),True)\n",
    "cv2.imshow(\"boxFilter\",box)\n",
    "cv2.waitKey()\n",
    "cv2.destroyAllWindows()"
   ]
  },
  {
   "cell_type": "markdown",
   "id": "4176dab4-2100-4a04-88d4-d0c93e32ce81",
   "metadata": {},
   "source": [
    "### 高斯滤波 通过高斯函数，按权重进行卷积操作"
   ]
  },
  {
   "cell_type": "markdown",
   "id": "464e828e-abea-451b-915c-3229e49460bd",
   "metadata": {},
   "source": [
    "![高斯滤波](./NotePicture/高斯滤波.png)(https://blog.csdn.net/great_yzl/article/details/119645423)"
   ]
  },
  {
   "cell_type": "code",
   "execution_count": 41,
   "id": "14dc3ab9-ae16-4ca2-ab71-631e3c18d2ee",
   "metadata": {},
   "outputs": [],
   "source": [
    "img = cv2.imread(\"./Source/lenaNoise.png\")\n",
    "gaussian = cv2.GaussianBlur(img,(5,5),1)\n",
    "cv2.imshow(\"gaussian\",gaussian)\n",
    "cv2.waitKey(0)\n",
    "cv2.destroyAllWindows()"
   ]
  },
  {
   "cell_type": "markdown",
   "id": "84251bf1-3dcc-4054-a360-736b99c74324",
   "metadata": {},
   "source": [
    "### 中值滤波,从小到大排序,取中间值"
   ]
  },
  {
   "cell_type": "code",
   "execution_count": 42,
   "id": "a2cd7298-1072-4cb6-ade5-cf8f2391f050",
   "metadata": {},
   "outputs": [],
   "source": [
    "img = cv2.imread(\"./Source/lenaNoise.png\")\n",
    "median = cv2.medianBlur(img, 5)\n",
    "cv2.imshow(\"原图\",img)\n",
    "cv2.imshow(\"MedianBlur\",median)\n",
    "cv2.waitKey(0)\n",
    "cv2.destroyAllWindows()"
   ]
  },
  {
   "cell_type": "code",
   "execution_count": 45,
   "id": "67e33611-bb59-477c-94b3-9783cc5f22ed",
   "metadata": {},
   "outputs": [
    {
     "data": {
      "text/plain": [
       "-1"
      ]
     },
     "execution_count": 45,
     "metadata": {},
     "output_type": "execute_result"
    }
   ],
   "source": [
    "# 展示所有\n",
    "res = np.hstack((blur,gaussian,median))\n",
    "cv2.imshow(\"allFilter\",res)\n",
    "cv2.waitKey(0)"
   ]
  }
 ],
 "metadata": {
  "kernelspec": {
   "display_name": "Python 3 (ipykernel)",
   "language": "python",
   "name": "python3"
  },
  "language_info": {
   "codemirror_mode": {
    "name": "ipython",
    "version": 3
   },
   "file_extension": ".py",
   "mimetype": "text/x-python",
   "name": "python",
   "nbconvert_exporter": "python",
   "pygments_lexer": "ipython3",
   "version": "3.12.7"
  }
 },
 "nbformat": 4,
 "nbformat_minor": 5
}
