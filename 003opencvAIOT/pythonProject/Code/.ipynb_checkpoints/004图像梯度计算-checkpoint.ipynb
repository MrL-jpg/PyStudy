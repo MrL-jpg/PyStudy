{
 "cells": [
  {
   "cell_type": "code",
   "execution_count": 1,
   "id": "004e2704-c06d-4de2-ad01-2bcae824c45c",
   "metadata": {},
   "outputs": [],
   "source": [
    "import cv2\n",
    "import numpy as np\n",
    "import matplotlib.pyplot as plt"
   ]
  },
  {
   "cell_type": "code",
   "execution_count": null,
   "id": "17a373c7-0abd-4b58-a628-4e3661b77a02",
   "metadata": {},
   "outputs": [],
   "source": [
    "img = cv2.imread(\"./Source/pie.png\")"
   ]
  }
 ],
 "metadata": {
  "kernelspec": {
   "display_name": "Python 3 (ipykernel)",
   "language": "python",
   "name": "python3"
  },
  "language_info": {
   "codemirror_mode": {
    "name": "ipython",
    "version": 3
   },
   "file_extension": ".py",
   "mimetype": "text/x-python",
   "name": "python",
   "nbconvert_exporter": "python",
   "pygments_lexer": "ipython3",
   "version": "3.12.7"
  }
 },
 "nbformat": 4,
 "nbformat_minor": 5
}
